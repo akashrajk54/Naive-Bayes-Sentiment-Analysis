{
 "cells": [
  {
   "cell_type": "code",
   "execution_count": null,
   "metadata": {},
   "outputs": [],
   "source": []
  },
  {
   "cell_type": "markdown",
   "metadata": {},
   "source": [
    "### Import Imp Lib"
   ]
  },
  {
   "cell_type": "code",
   "execution_count": 1,
   "metadata": {},
   "outputs": [],
   "source": [
    "import numpy as np\n",
    "import pandas as pd\n",
    "import matplotlib.pyplot as plt\n",
    "import seaborn as sns\n",
    "%matplotlib inline\n",
    "\n",
    "import re\n",
    "import string\n",
    "import nltk\n",
    "from nltk.corpus import stopwords\n",
    "from sklearn.metrics import f1_score\n",
    "from sklearn.model_selection import train_test_split\n",
    "from nltk.stem.snowball import SnowballStemmer\n",
    "from nlppreprocess import NLP\n",
    "\n",
    "import math\n",
    "import string\n",
    "punct = string.punctuation\n",
    "import spacy\n",
    "nlp = spacy.load(\"en_core_web_sm\")\n",
    "from spacy.lang.en.stop_words import STOP_WORDS\n",
    "\n",
    "from sklearn.metrics import confusion_matrix,accuracy_score, classification_report, roc_curve, auc"
   ]
  },
  {
   "cell_type": "code",
   "execution_count": 2,
   "metadata": {},
   "outputs": [],
   "source": [
    "train=pd.read_csv('train_K_Tweets.csv')\n",
    "test=pd.read_csv('test_K_Tweets.csv')\n",
    "dataset=pd.concat([train,test])\n",
    "pd.set_option('display.max_colwidth', 100)"
   ]
  },
  {
   "cell_type": "code",
   "execution_count": 3,
   "metadata": {},
   "outputs": [
    {
     "data": {
      "text/html": [
       "<div>\n",
       "<style scoped>\n",
       "    .dataframe tbody tr th:only-of-type {\n",
       "        vertical-align: middle;\n",
       "    }\n",
       "\n",
       "    .dataframe tbody tr th {\n",
       "        vertical-align: top;\n",
       "    }\n",
       "\n",
       "    .dataframe thead th {\n",
       "        text-align: right;\n",
       "    }\n",
       "</style>\n",
       "<table border=\"1\" class=\"dataframe\">\n",
       "  <thead>\n",
       "    <tr style=\"text-align: right;\">\n",
       "      <th></th>\n",
       "      <th>id</th>\n",
       "      <th>keyword</th>\n",
       "      <th>location</th>\n",
       "      <th>text</th>\n",
       "      <th>target</th>\n",
       "    </tr>\n",
       "  </thead>\n",
       "  <tbody>\n",
       "    <tr>\n",
       "      <th>0</th>\n",
       "      <td>1</td>\n",
       "      <td>NaN</td>\n",
       "      <td>NaN</td>\n",
       "      <td>Our Deeds are the Reason of this #earthquake May ALLAH Forgive us all</td>\n",
       "      <td>1.0</td>\n",
       "    </tr>\n",
       "    <tr>\n",
       "      <th>1</th>\n",
       "      <td>4</td>\n",
       "      <td>NaN</td>\n",
       "      <td>NaN</td>\n",
       "      <td>Forest fire near La Ronge Sask. Canada</td>\n",
       "      <td>1.0</td>\n",
       "    </tr>\n",
       "    <tr>\n",
       "      <th>2</th>\n",
       "      <td>5</td>\n",
       "      <td>NaN</td>\n",
       "      <td>NaN</td>\n",
       "      <td>All residents asked to 'shelter in place' are being notified by officers. No other evacuation or...</td>\n",
       "      <td>1.0</td>\n",
       "    </tr>\n",
       "    <tr>\n",
       "      <th>3</th>\n",
       "      <td>6</td>\n",
       "      <td>NaN</td>\n",
       "      <td>NaN</td>\n",
       "      <td>13,000 people receive #wildfires evacuation orders in California</td>\n",
       "      <td>1.0</td>\n",
       "    </tr>\n",
       "    <tr>\n",
       "      <th>4</th>\n",
       "      <td>7</td>\n",
       "      <td>NaN</td>\n",
       "      <td>NaN</td>\n",
       "      <td>Just got sent this photo from Ruby #Alaska as smoke from #wildfires pours into a school</td>\n",
       "      <td>1.0</td>\n",
       "    </tr>\n",
       "  </tbody>\n",
       "</table>\n",
       "</div>"
      ],
      "text/plain": [
       "   id keyword location  \\\n",
       "0   1     NaN      NaN   \n",
       "1   4     NaN      NaN   \n",
       "2   5     NaN      NaN   \n",
       "3   6     NaN      NaN   \n",
       "4   7     NaN      NaN   \n",
       "\n",
       "                                                                                                  text  \\\n",
       "0                                Our Deeds are the Reason of this #earthquake May ALLAH Forgive us all   \n",
       "1                                                               Forest fire near La Ronge Sask. Canada   \n",
       "2  All residents asked to 'shelter in place' are being notified by officers. No other evacuation or...   \n",
       "3                                    13,000 people receive #wildfires evacuation orders in California    \n",
       "4             Just got sent this photo from Ruby #Alaska as smoke from #wildfires pours into a school    \n",
       "\n",
       "   target  \n",
       "0     1.0  \n",
       "1     1.0  \n",
       "2     1.0  \n",
       "3     1.0  \n",
       "4     1.0  "
      ]
     },
     "execution_count": 3,
     "metadata": {},
     "output_type": "execute_result"
    }
   ],
   "source": [
    "dataset.head()"
   ]
  },
  {
   "cell_type": "markdown",
   "metadata": {},
   "source": [
    "# 1. Data cleaning¶\n",
    "## a). We will start with cleaning basic text noises such as URLS , Email IDS , punctautions etc."
   ]
  },
  {
   "cell_type": "code",
   "execution_count": 4,
   "metadata": {},
   "outputs": [],
   "source": [
    "def lowercase_text(text):\n",
    "    return text.lower()\n",
    "\n",
    "train.text=train.text.apply(lambda x: lowercase_text(x))\n",
    "test.text=test.text.apply(lambda x: lowercase_text(x))"
   ]
  },
  {
   "cell_type": "code",
   "execution_count": 5,
   "metadata": {},
   "outputs": [
    {
     "data": {
      "text/plain": [
       "0                                  our deeds are the reason of this #earthquake may allah forgive us all\n",
       "1                                                                 forest fire near la ronge sask. canada\n",
       "2    all residents asked to 'shelter in place' are being notified by officers. no other evacuation or...\n",
       "3                                      13,000 people receive #wildfires evacuation orders in california \n",
       "4               just got sent this photo from ruby #alaska as smoke from #wildfires pours into a school \n",
       "Name: text, dtype: object"
      ]
     },
     "execution_count": 5,
     "metadata": {},
     "output_type": "execute_result"
    }
   ],
   "source": [
    "train.text.head(5)"
   ]
  },
  {
   "cell_type": "code",
   "execution_count": 6,
   "metadata": {},
   "outputs": [],
   "source": [
    "def remove_noise(text):\n",
    "    text = re.sub('\\[.*?\\]', '', text)\n",
    "    text = re.sub('https?://\\S+|www\\.\\S+', '', text)\n",
    "    text = re.sub('<.*?>+', '', text)\n",
    "    text = re.sub('[%s]' % re.escape(string.punctuation), '', text)\n",
    "    text = re.sub('\\n', '', text)\n",
    "    text = re.sub('\\w*\\d\\w*', '', text)\n",
    "    #text = re.sub('#', '', text)\n",
    "    return text"
   ]
  },
  {
   "cell_type": "code",
   "execution_count": 7,
   "metadata": {},
   "outputs": [],
   "source": [
    "train.text=train.text.apply(lambda x: remove_noise(x))\n",
    "test.text=test.text.apply(lambda x: remove_noise(x))"
   ]
  },
  {
   "cell_type": "code",
   "execution_count": 8,
   "metadata": {},
   "outputs": [
    {
     "data": {
      "text/html": [
       "<div>\n",
       "<style scoped>\n",
       "    .dataframe tbody tr th:only-of-type {\n",
       "        vertical-align: middle;\n",
       "    }\n",
       "\n",
       "    .dataframe tbody tr th {\n",
       "        vertical-align: top;\n",
       "    }\n",
       "\n",
       "    .dataframe thead th {\n",
       "        text-align: right;\n",
       "    }\n",
       "</style>\n",
       "<table border=\"1\" class=\"dataframe\">\n",
       "  <thead>\n",
       "    <tr style=\"text-align: right;\">\n",
       "      <th></th>\n",
       "      <th>id</th>\n",
       "      <th>keyword</th>\n",
       "      <th>location</th>\n",
       "      <th>text</th>\n",
       "      <th>target</th>\n",
       "    </tr>\n",
       "  </thead>\n",
       "  <tbody>\n",
       "    <tr>\n",
       "      <th>0</th>\n",
       "      <td>1</td>\n",
       "      <td>NaN</td>\n",
       "      <td>NaN</td>\n",
       "      <td>our deeds are the reason of this earthquake may allah forgive us all</td>\n",
       "      <td>1</td>\n",
       "    </tr>\n",
       "    <tr>\n",
       "      <th>1</th>\n",
       "      <td>4</td>\n",
       "      <td>NaN</td>\n",
       "      <td>NaN</td>\n",
       "      <td>forest fire near la ronge sask canada</td>\n",
       "      <td>1</td>\n",
       "    </tr>\n",
       "    <tr>\n",
       "      <th>2</th>\n",
       "      <td>5</td>\n",
       "      <td>NaN</td>\n",
       "      <td>NaN</td>\n",
       "      <td>all residents asked to shelter in place are being notified by officers no other evacuation or sh...</td>\n",
       "      <td>1</td>\n",
       "    </tr>\n",
       "    <tr>\n",
       "      <th>3</th>\n",
       "      <td>6</td>\n",
       "      <td>NaN</td>\n",
       "      <td>NaN</td>\n",
       "      <td>people receive wildfires evacuation orders in california</td>\n",
       "      <td>1</td>\n",
       "    </tr>\n",
       "    <tr>\n",
       "      <th>4</th>\n",
       "      <td>7</td>\n",
       "      <td>NaN</td>\n",
       "      <td>NaN</td>\n",
       "      <td>just got sent this photo from ruby alaska as smoke from wildfires pours into a school</td>\n",
       "      <td>1</td>\n",
       "    </tr>\n",
       "  </tbody>\n",
       "</table>\n",
       "</div>"
      ],
      "text/plain": [
       "   id keyword location  \\\n",
       "0   1     NaN      NaN   \n",
       "1   4     NaN      NaN   \n",
       "2   5     NaN      NaN   \n",
       "3   6     NaN      NaN   \n",
       "4   7     NaN      NaN   \n",
       "\n",
       "                                                                                                  text  \\\n",
       "0                                 our deeds are the reason of this earthquake may allah forgive us all   \n",
       "1                                                                forest fire near la ronge sask canada   \n",
       "2  all residents asked to shelter in place are being notified by officers no other evacuation or sh...   \n",
       "3                                            people receive wildfires evacuation orders in california    \n",
       "4               just got sent this photo from ruby alaska as smoke from wildfires pours into a school    \n",
       "\n",
       "   target  \n",
       "0       1  \n",
       "1       1  \n",
       "2       1  \n",
       "3       1  \n",
       "4       1  "
      ]
     },
     "execution_count": 8,
     "metadata": {},
     "output_type": "execute_result"
    }
   ],
   "source": [
    "train.head()"
   ]
  },
  {
   "cell_type": "markdown",
   "metadata": {},
   "source": [
    "## b). Now we will use NLP preprocessing to process our data ! This actually gave me better results"
   ]
  },
  {
   "cell_type": "code",
   "execution_count": 9,
   "metadata": {},
   "outputs": [],
   "source": [
    "nlp = NLP()\n",
    "\n",
    "train['text'] = train['text'].apply(nlp.process)\n",
    "test['text'] = test['text'].apply(nlp.process)"
   ]
  },
  {
   "cell_type": "code",
   "execution_count": 10,
   "metadata": {},
   "outputs": [
    {
     "data": {
      "text/plain": [
       "0                                                   our deeds are reason earthquake may allah forgive us\n",
       "1                                                                  forest fire near la ronge sask canada\n",
       "2    residents asked shelter in place are being notified by officers no evacuation shelter in place o...\n",
       "3                                               people receive wildfires evacuation orders in california\n",
       "4                            just got sent photo from ruby alaska smoke from wildfires pours into school\n",
       "Name: text, dtype: object"
      ]
     },
     "execution_count": 10,
     "metadata": {},
     "output_type": "execute_result"
    }
   ],
   "source": [
    "train.text.head()"
   ]
  },
  {
   "cell_type": "markdown",
   "metadata": {},
   "source": [
    "## c). Stemming\n",
    "## Now we have to stem our text , will be using SnowballStemmer"
   ]
  },
  {
   "cell_type": "code",
   "execution_count": 11,
   "metadata": {},
   "outputs": [],
   "source": [
    "stemmer = SnowballStemmer(\"english\")\n",
    "\n",
    "def stemming(text):\n",
    "    text = [stemmer.stem(word) for word in text.split()]\n",
    "    return ' '.join(text)\n",
    "\n",
    "train['text'] = train['text'].apply(stemming)\n",
    "test['text'] = test['text'].apply(stemming)"
   ]
  },
  {
   "cell_type": "code",
   "execution_count": 12,
   "metadata": {},
   "outputs": [
    {
     "data": {
      "text/plain": [
       "0                                               our deed are reason earthquak may allah forgiv us\n",
       "1                                                            forest fire near la rong sask canada\n",
       "2    resid ask shelter in place are be notifi by offic no evacu shelter in place order are expect\n",
       "3                                                  peopl receiv wildfir evacu order in california\n",
       "4                        just got sent photo from rubi alaska smoke from wildfir pour into school\n",
       "Name: text, dtype: object"
      ]
     },
     "execution_count": 12,
     "metadata": {},
     "output_type": "execute_result"
    }
   ],
   "source": [
    "train.text.head()"
   ]
  },
  {
   "cell_type": "markdown",
   "metadata": {},
   "source": [
    "# Mask the dataset in a new dataframe called \"q\" "
   ]
  },
  {
   "cell_type": "code",
   "execution_count": 13,
   "metadata": {},
   "outputs": [],
   "source": [
    "q = train.loc[0:999]"
   ]
  },
  {
   "cell_type": "markdown",
   "metadata": {},
   "source": [
    "## Preprocessing Using Spacy "
   ]
  },
  {
   "cell_type": "code",
   "execution_count": 14,
   "metadata": {},
   "outputs": [],
   "source": [
    "stopwords = list(STOP_WORDS)"
   ]
  },
  {
   "cell_type": "markdown",
   "metadata": {},
   "source": [
    "## Final processing and load tokens in a column as a set of cleaned words"
   ]
  },
  {
   "cell_type": "code",
   "execution_count": 18,
   "metadata": {
    "scrolled": true
   },
   "outputs": [],
   "source": [
    "import spacy\n",
    "nlp = spacy.load(\"en_core_web_sm\")\n",
    "\n",
    "\n",
    "l = []\n",
    "k = []\n",
    "\n",
    "for j in range(0,len(q.text)):\n",
    "    x=q.text[j]\n",
    "    doc =nlp(x)\n",
    "    for token in doc:\n",
    "        #l.append(token)\n",
    "        if token.lemma_ != \"-PRON-\":\n",
    "            temp = token.lemma_.lower().strip()\n",
    "            #k.append(temp)\n",
    "        else:\n",
    "            temp = token.lower_\n",
    "        k.append(temp)\n",
    "        \n",
    "        \n",
    "        \n",
    "        \n",
    "    cleaned_tokens = []\n",
    "    for token in k:\n",
    "        if token not in stopwords and token not in punct:\n",
    "            cleaned_tokens.append(token)\n",
    "        \n",
    "        #for i in range(0,len(l)):\n",
    "            #if token != l[i]:\n",
    "                #print(token)\n",
    "                #l.append(token)\n",
    "                #sentance_list.append(sent)\n",
    "    "
   ]
  },
  {
   "cell_type": "code",
   "execution_count": 19,
   "metadata": {},
   "outputs": [
    {
     "data": {
      "text/plain": [
       "(1000, 5)"
      ]
     },
     "execution_count": 19,
     "metadata": {},
     "output_type": "execute_result"
    }
   ],
   "source": [
    "q.shape"
   ]
  },
  {
   "cell_type": "code",
   "execution_count": 20,
   "metadata": {},
   "outputs": [
    {
     "data": {
      "text/plain": [
       "7883"
      ]
     },
     "execution_count": 20,
     "metadata": {},
     "output_type": "execute_result"
    }
   ],
   "source": [
    "len(cleaned_tokens)"
   ]
  },
  {
   "cell_type": "code",
   "execution_count": 21,
   "metadata": {},
   "outputs": [],
   "source": [
    "All_word_list_set=list(set(cleaned_tokens))"
   ]
  },
  {
   "cell_type": "code",
   "execution_count": 22,
   "metadata": {},
   "outputs": [
    {
     "data": {
      "text/plain": [
       "3094"
      ]
     },
     "execution_count": 22,
     "metadata": {},
     "output_type": "execute_result"
    }
   ],
   "source": [
    "len(All_word_list_set)"
   ]
  },
  {
   "cell_type": "code",
   "execution_count": 23,
   "metadata": {},
   "outputs": [],
   "source": [
    "tweets_cleaned = pd.DataFrame(All_word_list_set)"
   ]
  },
  {
   "cell_type": "code",
   "execution_count": 24,
   "metadata": {},
   "outputs": [
    {
     "data": {
      "text/html": [
       "<div>\n",
       "<style scoped>\n",
       "    .dataframe tbody tr th:only-of-type {\n",
       "        vertical-align: middle;\n",
       "    }\n",
       "\n",
       "    .dataframe tbody tr th {\n",
       "        vertical-align: top;\n",
       "    }\n",
       "\n",
       "    .dataframe thead th {\n",
       "        text-align: right;\n",
       "    }\n",
       "</style>\n",
       "<table border=\"1\" class=\"dataframe\">\n",
       "  <thead>\n",
       "    <tr style=\"text-align: right;\">\n",
       "      <th></th>\n",
       "      <th>0</th>\n",
       "    </tr>\n",
       "  </thead>\n",
       "  <tbody>\n",
       "    <tr>\n",
       "      <th>0</th>\n",
       "      <td>coaster</td>\n",
       "    </tr>\n",
       "    <tr>\n",
       "      <th>1</th>\n",
       "      <td>drunk</td>\n",
       "    </tr>\n",
       "    <tr>\n",
       "      <th>2</th>\n",
       "      <td>bob</td>\n",
       "    </tr>\n",
       "    <tr>\n",
       "      <th>3</th>\n",
       "      <td>cargo</td>\n",
       "    </tr>\n",
       "    <tr>\n",
       "      <th>4</th>\n",
       "      <td>annihil</td>\n",
       "    </tr>\n",
       "  </tbody>\n",
       "</table>\n",
       "</div>"
      ],
      "text/plain": [
       "         0\n",
       "0  coaster\n",
       "1    drunk\n",
       "2      bob\n",
       "3    cargo\n",
       "4  annihil"
      ]
     },
     "execution_count": 24,
     "metadata": {},
     "output_type": "execute_result"
    }
   ],
   "source": [
    "tweets_cleaned.head()"
   ]
  },
  {
   "cell_type": "markdown",
   "metadata": {},
   "source": [
    "# Clean words of +ve and -ve tweets"
   ]
  },
  {
   "cell_type": "code",
   "execution_count": 25,
   "metadata": {},
   "outputs": [],
   "source": [
    "l = []\n",
    "k = []\n",
    "\n",
    "for j in range(0,len(q.text)):\n",
    "    if q.target[j]==1:\n",
    "        x=q.text[j]\n",
    "        doc =nlp(x)\n",
    "        for token in doc:\n",
    "            #l.append(token)\n",
    "            if token.lemma_ != \"-PRON-\":\n",
    "                temp = token.lemma_.lower().strip()\n",
    "                #k.append(temp)\n",
    "            else:\n",
    "                temp = token.lower_\n",
    "            k.append(temp)\n",
    "\n",
    "\n",
    "\n",
    "\n",
    "        positive_cleaned_tokens = []\n",
    "        for token in k:\n",
    "            if token not in stopwords and token not in punct:\n",
    "                positive_cleaned_tokens.append(token)\n",
    "\n",
    "            #for i in range(0,len(l)):\n",
    "                #if token != l[i]:\n",
    "                    #print(token)\n",
    "                    #l.append(token)\n",
    "                    #sentance_list.append(sent)\n"
   ]
  },
  {
   "cell_type": "code",
   "execution_count": 26,
   "metadata": {},
   "outputs": [],
   "source": [
    "l = []\n",
    "k = []\n",
    "\n",
    "for j in range(0,len(q.text)):\n",
    "    if q.target[j]==0:\n",
    "        x=q.text[j]\n",
    "        doc =nlp(x)\n",
    "        for token in doc:\n",
    "            #l.append(token)\n",
    "            if token.lemma_ != \"-PRON-\":\n",
    "                temp = token.lemma_.lower().strip()\n",
    "                #k.append(temp)\n",
    "            else:\n",
    "                temp = token.lower_\n",
    "            k.append(temp)\n",
    "\n",
    "\n",
    "\n",
    "\n",
    "        negative_cleaned_tokens = []\n",
    "        for token in k:\n",
    "            if token not in stopwords and token not in punct:\n",
    "                negative_cleaned_tokens.append(token)\n",
    "\n",
    "            #for i in range(0,len(l)):\n",
    "                #if token != l[i]:\n",
    "                    #print(token)\n",
    "                    #l.append(token)\n",
    "                    #sentance_list.append(sent)\n"
   ]
  },
  {
   "cell_type": "code",
   "execution_count": 27,
   "metadata": {},
   "outputs": [
    {
     "data": {
      "text/plain": [
       "5183"
      ]
     },
     "execution_count": 27,
     "metadata": {},
     "output_type": "execute_result"
    }
   ],
   "source": [
    "len(negative_cleaned_tokens)"
   ]
  },
  {
   "cell_type": "code",
   "execution_count": 28,
   "metadata": {},
   "outputs": [
    {
     "data": {
      "text/plain": [
       "2700"
      ]
     },
     "execution_count": 28,
     "metadata": {},
     "output_type": "execute_result"
    }
   ],
   "source": [
    "len(positive_cleaned_tokens)"
   ]
  },
  {
   "cell_type": "code",
   "execution_count": 29,
   "metadata": {},
   "outputs": [
    {
     "data": {
      "text/plain": [
       "3094"
      ]
     },
     "execution_count": 29,
     "metadata": {},
     "output_type": "execute_result"
    }
   ],
   "source": [
    "len(All_word_list_set)"
   ]
  },
  {
   "cell_type": "markdown",
   "metadata": {},
   "source": [
    "# Load all three cleaned list in a single dataframe"
   ]
  },
  {
   "cell_type": "code",
   "execution_count": 30,
   "metadata": {},
   "outputs": [],
   "source": [
    "a = {'ALL WORDS': All_word_list_set,\n",
    "     'POSITIVE SENTI WORDS': positive_cleaned_tokens,\n",
    "    'NEGATIVE SENTI WORDS': negative_cleaned_tokens}\n",
    "df = pd.DataFrame.from_dict(a, orient='index')\n",
    "df = df.transpose()"
   ]
  },
  {
   "cell_type": "code",
   "execution_count": 31,
   "metadata": {},
   "outputs": [
    {
     "data": {
      "text/html": [
       "<div>\n",
       "<style scoped>\n",
       "    .dataframe tbody tr th:only-of-type {\n",
       "        vertical-align: middle;\n",
       "    }\n",
       "\n",
       "    .dataframe tbody tr th {\n",
       "        vertical-align: top;\n",
       "    }\n",
       "\n",
       "    .dataframe thead th {\n",
       "        text-align: right;\n",
       "    }\n",
       "</style>\n",
       "<table border=\"1\" class=\"dataframe\">\n",
       "  <thead>\n",
       "    <tr style=\"text-align: right;\">\n",
       "      <th></th>\n",
       "      <th>ALL WORDS</th>\n",
       "      <th>POSITIVE SENTI WORDS</th>\n",
       "      <th>NEGATIVE SENTI WORDS</th>\n",
       "    </tr>\n",
       "  </thead>\n",
       "  <tbody>\n",
       "    <tr>\n",
       "      <th>0</th>\n",
       "      <td>coaster</td>\n",
       "      <td>deed</td>\n",
       "      <td>man</td>\n",
       "    </tr>\n",
       "    <tr>\n",
       "      <th>1</th>\n",
       "      <td>drunk</td>\n",
       "      <td>reason</td>\n",
       "      <td>love</td>\n",
       "    </tr>\n",
       "    <tr>\n",
       "      <th>2</th>\n",
       "      <td>bob</td>\n",
       "      <td>earthquak</td>\n",
       "      <td>fruit</td>\n",
       "    </tr>\n",
       "    <tr>\n",
       "      <th>3</th>\n",
       "      <td>cargo</td>\n",
       "      <td>allah</td>\n",
       "      <td>summer</td>\n",
       "    </tr>\n",
       "    <tr>\n",
       "      <th>4</th>\n",
       "      <td>annihil</td>\n",
       "      <td>forgiv</td>\n",
       "      <td>love</td>\n",
       "    </tr>\n",
       "  </tbody>\n",
       "</table>\n",
       "</div>"
      ],
      "text/plain": [
       "  ALL WORDS POSITIVE SENTI WORDS NEGATIVE SENTI WORDS\n",
       "0   coaster                 deed                  man\n",
       "1     drunk               reason                 love\n",
       "2       bob            earthquak                fruit\n",
       "3     cargo                allah               summer\n",
       "4   annihil               forgiv                 love"
      ]
     },
     "execution_count": 31,
     "metadata": {},
     "output_type": "execute_result"
    }
   ],
   "source": [
    "df.head()"
   ]
  },
  {
   "cell_type": "markdown",
   "metadata": {},
   "source": [
    "# Because of their differ in row number None value are generated so replace them with zero"
   ]
  },
  {
   "cell_type": "code",
   "execution_count": 32,
   "metadata": {},
   "outputs": [
    {
     "data": {
      "text/html": [
       "<div>\n",
       "<style scoped>\n",
       "    .dataframe tbody tr th:only-of-type {\n",
       "        vertical-align: middle;\n",
       "    }\n",
       "\n",
       "    .dataframe tbody tr th {\n",
       "        vertical-align: top;\n",
       "    }\n",
       "\n",
       "    .dataframe thead th {\n",
       "        text-align: right;\n",
       "    }\n",
       "</style>\n",
       "<table border=\"1\" class=\"dataframe\">\n",
       "  <thead>\n",
       "    <tr style=\"text-align: right;\">\n",
       "      <th></th>\n",
       "      <th>ALL WORDS</th>\n",
       "      <th>POSITIVE SENTI WORDS</th>\n",
       "      <th>NEGATIVE SENTI WORDS</th>\n",
       "    </tr>\n",
       "  </thead>\n",
       "  <tbody>\n",
       "    <tr>\n",
       "      <th>3013</th>\n",
       "      <td>stir</td>\n",
       "      <td>0</td>\n",
       "      <td>danryckert</td>\n",
       "    </tr>\n",
       "  </tbody>\n",
       "</table>\n",
       "</div>"
      ],
      "text/plain": [
       "     ALL WORDS POSITIVE SENTI WORDS NEGATIVE SENTI WORDS\n",
       "3013      stir                    0           danryckert"
      ]
     },
     "execution_count": 32,
     "metadata": {},
     "output_type": "execute_result"
    }
   ],
   "source": [
    "df = df.fillna(\"0\")\n",
    "#select all rows containing \"foo\"\n",
    "df[df['NEGATIVE SENTI WORDS'].str.contains('danryckert', regex=False)]"
   ]
  },
  {
   "cell_type": "markdown",
   "metadata": {},
   "source": [
    "# Find the frequency of each word and load them in a dataframe"
   ]
  },
  {
   "cell_type": "code",
   "execution_count": 33,
   "metadata": {},
   "outputs": [],
   "source": [
    "Posi_num = []\n",
    "for j in range (0,len(All_word_list_set)):\n",
    "    temp = df[\"ALL WORDS\"][j]\n",
    "    num = (df['POSITIVE SENTI WORDS'] == temp).sum()\n",
    "    Posi_num.append(num)"
   ]
  },
  {
   "cell_type": "code",
   "execution_count": null,
   "metadata": {},
   "outputs": [],
   "source": []
  },
  {
   "cell_type": "code",
   "execution_count": 34,
   "metadata": {},
   "outputs": [],
   "source": [
    "Negative_num = []\n",
    "for j in range (0,len(All_word_list_set)):\n",
    "    temp = df[\"ALL WORDS\"][j]\n",
    "    num = (df['NEGATIVE SENTI WORDS'] == temp).sum()\n",
    "    Negative_num.append(num)"
   ]
  },
  {
   "cell_type": "code",
   "execution_count": null,
   "metadata": {},
   "outputs": [],
   "source": []
  },
  {
   "cell_type": "code",
   "execution_count": 35,
   "metadata": {},
   "outputs": [],
   "source": [
    "a = {'ALL WORDS': All_word_list_set,\n",
    "    # 'POSITIVE SENTI WORDS': positive_cleaned_tokens,\n",
    "   # 'NEGATIVE SENTI WORDS': negative_cleaned_tokens,\n",
    "    'POSTIVE_NUMBER':Posi_num,\n",
    "    'NEGATIVE_NUMBER':Negative_num}\n",
    "df = pd.DataFrame.from_dict(a, orient='index')\n",
    "df = df.transpose()"
   ]
  },
  {
   "cell_type": "code",
   "execution_count": 36,
   "metadata": {},
   "outputs": [
    {
     "data": {
      "text/html": [
       "<div>\n",
       "<style scoped>\n",
       "    .dataframe tbody tr th:only-of-type {\n",
       "        vertical-align: middle;\n",
       "    }\n",
       "\n",
       "    .dataframe tbody tr th {\n",
       "        vertical-align: top;\n",
       "    }\n",
       "\n",
       "    .dataframe thead th {\n",
       "        text-align: right;\n",
       "    }\n",
       "</style>\n",
       "<table border=\"1\" class=\"dataframe\">\n",
       "  <thead>\n",
       "    <tr style=\"text-align: right;\">\n",
       "      <th></th>\n",
       "      <th>ALL WORDS</th>\n",
       "      <th>POSTIVE_NUMBER</th>\n",
       "      <th>NEGATIVE_NUMBER</th>\n",
       "    </tr>\n",
       "  </thead>\n",
       "  <tbody>\n",
       "    <tr>\n",
       "      <th>0</th>\n",
       "      <td>coaster</td>\n",
       "      <td>0</td>\n",
       "      <td>2</td>\n",
       "    </tr>\n",
       "    <tr>\n",
       "      <th>1</th>\n",
       "      <td>drunk</td>\n",
       "      <td>3</td>\n",
       "      <td>0</td>\n",
       "    </tr>\n",
       "    <tr>\n",
       "      <th>2</th>\n",
       "      <td>bob</td>\n",
       "      <td>0</td>\n",
       "      <td>4</td>\n",
       "    </tr>\n",
       "    <tr>\n",
       "      <th>3</th>\n",
       "      <td>cargo</td>\n",
       "      <td>1</td>\n",
       "      <td>0</td>\n",
       "    </tr>\n",
       "    <tr>\n",
       "      <th>4</th>\n",
       "      <td>annihil</td>\n",
       "      <td>19</td>\n",
       "      <td>37</td>\n",
       "    </tr>\n",
       "  </tbody>\n",
       "</table>\n",
       "</div>"
      ],
      "text/plain": [
       "  ALL WORDS POSTIVE_NUMBER NEGATIVE_NUMBER\n",
       "0   coaster              0               2\n",
       "1     drunk              3               0\n",
       "2       bob              0               4\n",
       "3     cargo              1               0\n",
       "4   annihil             19              37"
      ]
     },
     "execution_count": 36,
     "metadata": {},
     "output_type": "execute_result"
    }
   ],
   "source": [
    "df.head()"
   ]
  },
  {
   "cell_type": "code",
   "execution_count": 37,
   "metadata": {},
   "outputs": [
    {
     "data": {
      "text/plain": [
       "numpy.int64"
      ]
     },
     "execution_count": 37,
     "metadata": {},
     "output_type": "execute_result"
    }
   ],
   "source": [
    "type(df[\"POSTIVE_NUMBER\"][0])"
   ]
  },
  {
   "cell_type": "markdown",
   "metadata": {},
   "source": [
    "# Total Number Nikalte hai yeha dono columns ke"
   ]
  },
  {
   "cell_type": "code",
   "execution_count": 38,
   "metadata": {},
   "outputs": [],
   "source": [
    "sum_posi = 0\n",
    "for j in range(0,(len(df.POSTIVE_NUMBER))):\n",
    "    temp = df.POSTIVE_NUMBER[j]\n",
    "    sum_posi = sum_posi + temp\n",
    "    "
   ]
  },
  {
   "cell_type": "code",
   "execution_count": 39,
   "metadata": {},
   "outputs": [],
   "source": [
    "sum_Negi = 0\n",
    "for j in range(0,(len(df.NEGATIVE_NUMBER))):\n",
    "    temp = df.NEGATIVE_NUMBER[j]\n",
    "    sum_Negi = sum_Negi + temp"
   ]
  },
  {
   "cell_type": "code",
   "execution_count": 40,
   "metadata": {},
   "outputs": [
    {
     "data": {
      "text/plain": [
       "5183"
      ]
     },
     "execution_count": 40,
     "metadata": {},
     "output_type": "execute_result"
    }
   ],
   "source": [
    "sum_Negi"
   ]
  },
  {
   "cell_type": "code",
   "execution_count": 41,
   "metadata": {},
   "outputs": [
    {
     "data": {
      "text/plain": [
       "2700"
      ]
     },
     "execution_count": 41,
     "metadata": {},
     "output_type": "execute_result"
    }
   ],
   "source": [
    "sum_posi"
   ]
  },
  {
   "cell_type": "code",
   "execution_count": 42,
   "metadata": {},
   "outputs": [
    {
     "data": {
      "text/plain": [
       "3094"
      ]
     },
     "execution_count": 42,
     "metadata": {},
     "output_type": "execute_result"
    }
   ],
   "source": [
    "len(All_word_list_set)"
   ]
  },
  {
   "cell_type": "markdown",
   "metadata": {},
   "source": [
    "# Now find the porobablity of positive tweets and negative tweets"
   ]
  },
  {
   "cell_type": "markdown",
   "metadata": {},
   "source": [
    " ## A). Probablity by Using Laplacian Smoothing "
   ]
  },
  {
   "cell_type": "markdown",
   "metadata": {},
   "source": [
    "#### +ve ke liye"
   ]
  },
  {
   "cell_type": "code",
   "execution_count": 43,
   "metadata": {},
   "outputs": [],
   "source": [
    "#sum_posi = 0\n",
    "Laplas_list_posi = []\n",
    "for j in range(0,(len(df.POSTIVE_NUMBER))):\n",
    "    temp = df.POSTIVE_NUMBER[j]\n",
    "    #sum_posi = sum_posi + temp\n",
    "    Laplas_divide_posi = (temp+1)/(2700+3094)\n",
    "    Laplas_list_posi.append(Laplas_divide_posi)"
   ]
  },
  {
   "cell_type": "code",
   "execution_count": 44,
   "metadata": {},
   "outputs": [],
   "source": [
    "b = {\"Laplas_posi_data\":Laplas_list_posi}\n",
    "lipo = pd.DataFrame(b)"
   ]
  },
  {
   "cell_type": "markdown",
   "metadata": {},
   "source": [
    "### -Ve ke liye"
   ]
  },
  {
   "cell_type": "code",
   "execution_count": 45,
   "metadata": {},
   "outputs": [],
   "source": [
    "#sum_posi = 0\n",
    "Laplas_list_negi = []\n",
    "for j in range(0,(len(df.NEGATIVE_NUMBER))):\n",
    "    temp = df.NEGATIVE_NUMBER[j]\n",
    "    #sum_posi = sum_posi + temp\n",
    "    divide_negi = temp/5183\n",
    "    Laplas_list_negi.append(divide_negi)"
   ]
  },
  {
   "cell_type": "code",
   "execution_count": 46,
   "metadata": {},
   "outputs": [],
   "source": [
    "lipo[\"Laplas_negi_data\"] = Laplas_list_negi"
   ]
  },
  {
   "cell_type": "markdown",
   "metadata": {},
   "source": [
    "### To check the sum of a probablity"
   ]
  },
  {
   "cell_type": "code",
   "execution_count": 47,
   "metadata": {},
   "outputs": [],
   "source": [
    "# For +ve Probablity\n",
    "\n",
    "Laplas_P_TOTAL_SUM = 0\n",
    "for j in range(0,(len(lipo.Laplas_posi_data))):\n",
    "    temp = lipo.Laplas_posi_data[j]\n",
    "    Laplas_P_TOTAL_SUM = Laplas_P_TOTAL_SUM + temp"
   ]
  },
  {
   "cell_type": "code",
   "execution_count": 48,
   "metadata": {},
   "outputs": [
    {
     "data": {
      "text/plain": [
       "1.0000000000000282"
      ]
     },
     "execution_count": 48,
     "metadata": {},
     "output_type": "execute_result"
    }
   ],
   "source": [
    "Laplas_P_TOTAL_SUM"
   ]
  },
  {
   "cell_type": "code",
   "execution_count": 49,
   "metadata": {},
   "outputs": [],
   "source": [
    "# For -ve Probablity\n",
    "\n",
    "Laplas_N_TOTAL_SUM = 0\n",
    "for j in range(0,(len(lipo.Laplas_negi_data))):\n",
    "    temp = lipo.Laplas_negi_data[j]\n",
    "    Laplas_N_TOTAL_SUM = Laplas_N_TOTAL_SUM + temp"
   ]
  },
  {
   "cell_type": "code",
   "execution_count": 50,
   "metadata": {},
   "outputs": [
    {
     "data": {
      "text/plain": [
       "0.9999999999999813"
      ]
     },
     "execution_count": 50,
     "metadata": {},
     "output_type": "execute_result"
    }
   ],
   "source": [
    "Laplas_N_TOTAL_SUM"
   ]
  },
  {
   "cell_type": "markdown",
   "metadata": {},
   "source": [
    "### SO Sum are Nearly one means its ok, Now we will append all these probablity in dataframe (df)"
   ]
  },
  {
   "cell_type": "code",
   "execution_count": 51,
   "metadata": {},
   "outputs": [],
   "source": [
    "df[\"Laplas_Prob_of_P_W\"] = Laplas_list_posi\n",
    "df[\"Laplas_Prob_of_N_W\"] = Laplas_list_negi"
   ]
  },
  {
   "cell_type": "code",
   "execution_count": 52,
   "metadata": {},
   "outputs": [
    {
     "data": {
      "text/html": [
       "<div>\n",
       "<style scoped>\n",
       "    .dataframe tbody tr th:only-of-type {\n",
       "        vertical-align: middle;\n",
       "    }\n",
       "\n",
       "    .dataframe tbody tr th {\n",
       "        vertical-align: top;\n",
       "    }\n",
       "\n",
       "    .dataframe thead th {\n",
       "        text-align: right;\n",
       "    }\n",
       "</style>\n",
       "<table border=\"1\" class=\"dataframe\">\n",
       "  <thead>\n",
       "    <tr style=\"text-align: right;\">\n",
       "      <th></th>\n",
       "      <th>ALL WORDS</th>\n",
       "      <th>POSTIVE_NUMBER</th>\n",
       "      <th>NEGATIVE_NUMBER</th>\n",
       "      <th>Laplas_Prob_of_P_W</th>\n",
       "      <th>Laplas_Prob_of_N_W</th>\n",
       "    </tr>\n",
       "  </thead>\n",
       "  <tbody>\n",
       "    <tr>\n",
       "      <th>0</th>\n",
       "      <td>coaster</td>\n",
       "      <td>0</td>\n",
       "      <td>2</td>\n",
       "      <td>0.000173</td>\n",
       "      <td>0.000386</td>\n",
       "    </tr>\n",
       "    <tr>\n",
       "      <th>1</th>\n",
       "      <td>drunk</td>\n",
       "      <td>3</td>\n",
       "      <td>0</td>\n",
       "      <td>0.000690</td>\n",
       "      <td>0.000000</td>\n",
       "    </tr>\n",
       "    <tr>\n",
       "      <th>2</th>\n",
       "      <td>bob</td>\n",
       "      <td>0</td>\n",
       "      <td>4</td>\n",
       "      <td>0.000173</td>\n",
       "      <td>0.000772</td>\n",
       "    </tr>\n",
       "    <tr>\n",
       "      <th>3</th>\n",
       "      <td>cargo</td>\n",
       "      <td>1</td>\n",
       "      <td>0</td>\n",
       "      <td>0.000345</td>\n",
       "      <td>0.000000</td>\n",
       "    </tr>\n",
       "    <tr>\n",
       "      <th>4</th>\n",
       "      <td>annihil</td>\n",
       "      <td>19</td>\n",
       "      <td>37</td>\n",
       "      <td>0.003452</td>\n",
       "      <td>0.007139</td>\n",
       "    </tr>\n",
       "  </tbody>\n",
       "</table>\n",
       "</div>"
      ],
      "text/plain": [
       "  ALL WORDS POSTIVE_NUMBER NEGATIVE_NUMBER  Laplas_Prob_of_P_W  \\\n",
       "0   coaster              0               2            0.000173   \n",
       "1     drunk              3               0            0.000690   \n",
       "2       bob              0               4            0.000173   \n",
       "3     cargo              1               0            0.000345   \n",
       "4   annihil             19              37            0.003452   \n",
       "\n",
       "   Laplas_Prob_of_N_W  \n",
       "0            0.000386  \n",
       "1            0.000000  \n",
       "2            0.000772  \n",
       "3            0.000000  \n",
       "4            0.007139  "
      ]
     },
     "execution_count": 52,
     "metadata": {},
     "output_type": "execute_result"
    }
   ],
   "source": [
    "df.head()"
   ]
  },
  {
   "cell_type": "code",
   "execution_count": null,
   "metadata": {},
   "outputs": [],
   "source": []
  },
  {
   "cell_type": "markdown",
   "metadata": {},
   "source": [
    "## B). Probablity by using simple technique"
   ]
  },
  {
   "cell_type": "markdown",
   "metadata": {},
   "source": [
    "### 1. For Positive tweets"
   ]
  },
  {
   "cell_type": "code",
   "execution_count": 53,
   "metadata": {},
   "outputs": [],
   "source": [
    "#sum_posi = 0\n",
    "list_posi = []\n",
    "for j in range(0,(len(df.POSTIVE_NUMBER))):\n",
    "    temp = df.POSTIVE_NUMBER[j]\n",
    "    #sum_posi = sum_posi + temp\n",
    "    divide_posi = temp/2700\n",
    "    list_posi.append(divide_posi)"
   ]
  },
  {
   "cell_type": "code",
   "execution_count": 54,
   "metadata": {},
   "outputs": [],
   "source": [
    "b = {\"posi_data\":list_posi}\n",
    "lipo = pd.DataFrame(b)"
   ]
  },
  {
   "cell_type": "code",
   "execution_count": 55,
   "metadata": {},
   "outputs": [],
   "source": [
    "#lipo[\"negi_data\"] = list_negi"
   ]
  },
  {
   "cell_type": "markdown",
   "metadata": {},
   "source": [
    "### 2. For Negative tweets"
   ]
  },
  {
   "cell_type": "code",
   "execution_count": 56,
   "metadata": {},
   "outputs": [],
   "source": [
    "#sum_posi = 0\n",
    "list_negi = []\n",
    "for j in range(0,(len(df.NEGATIVE_NUMBER))):\n",
    "    temp = df.NEGATIVE_NUMBER[j]\n",
    "    #sum_posi = sum_posi + temp\n",
    "    divide_negi = temp/5183\n",
    "    list_negi.append(divide_negi)"
   ]
  },
  {
   "cell_type": "code",
   "execution_count": 57,
   "metadata": {},
   "outputs": [],
   "source": [
    "lipo[\"negi_data\"] = list_negi"
   ]
  },
  {
   "cell_type": "markdown",
   "metadata": {},
   "source": [
    "## To check the sum of a probablity"
   ]
  },
  {
   "cell_type": "markdown",
   "metadata": {},
   "source": [
    "### 1. Positive lke liye"
   ]
  },
  {
   "cell_type": "code",
   "execution_count": 58,
   "metadata": {},
   "outputs": [],
   "source": [
    "P_TOTAL_SUM = 0\n",
    "for j in range(0,(len(lipo.posi_data))):\n",
    "    temp = lipo.posi_data[j]\n",
    "    P_TOTAL_SUM = P_TOTAL_SUM + temp\n"
   ]
  },
  {
   "cell_type": "code",
   "execution_count": 59,
   "metadata": {},
   "outputs": [
    {
     "data": {
      "text/plain": [
       "0.9999999999999891"
      ]
     },
     "execution_count": 59,
     "metadata": {},
     "output_type": "execute_result"
    }
   ],
   "source": [
    "P_TOTAL_SUM"
   ]
  },
  {
   "cell_type": "markdown",
   "metadata": {},
   "source": [
    "### 2. Negative lke liye"
   ]
  },
  {
   "cell_type": "code",
   "execution_count": 60,
   "metadata": {},
   "outputs": [],
   "source": [
    "N_TOTAL_SUM = 0\n",
    "for j in range(0,(len(lipo.negi_data))):\n",
    "    temp = lipo.negi_data[j]\n",
    "    N_TOTAL_SUM = N_TOTAL_SUM + temp"
   ]
  },
  {
   "cell_type": "code",
   "execution_count": 61,
   "metadata": {},
   "outputs": [
    {
     "data": {
      "text/plain": [
       "0.9999999999999813"
      ]
     },
     "execution_count": 61,
     "metadata": {},
     "output_type": "execute_result"
    }
   ],
   "source": [
    "N_TOTAL_SUM"
   ]
  },
  {
   "cell_type": "markdown",
   "metadata": {},
   "source": [
    "## SO Sum are Nearly one means its ok, Now we will append all these probablity in dataframe (df)"
   ]
  },
  {
   "cell_type": "code",
   "execution_count": 62,
   "metadata": {},
   "outputs": [],
   "source": [
    "df[\"Prob_of_P_W\"] = list_posi\n",
    "df[\"Prob_of_N_W\"] = list_negi"
   ]
  },
  {
   "cell_type": "markdown",
   "metadata": {},
   "source": [
    "## Now split dataset into train test"
   ]
  },
  {
   "cell_type": "code",
   "execution_count": 63,
   "metadata": {},
   "outputs": [],
   "source": [
    "import numpy as np\n",
    "from sklearn.model_selection import train_test_split "
   ]
  },
  {
   "cell_type": "code",
   "execution_count": 64,
   "metadata": {
    "scrolled": true
   },
   "outputs": [
    {
     "data": {
      "text/plain": [
       "(1000, 5)"
      ]
     },
     "execution_count": 64,
     "metadata": {},
     "output_type": "execute_result"
    }
   ],
   "source": [
    "q.shape"
   ]
  },
  {
   "cell_type": "code",
   "execution_count": 65,
   "metadata": {},
   "outputs": [],
   "source": [
    "train_q = q.loc[0:799]"
   ]
  },
  {
   "cell_type": "code",
   "execution_count": 66,
   "metadata": {},
   "outputs": [
    {
     "data": {
      "text/plain": [
       "(800, 5)"
      ]
     },
     "execution_count": 66,
     "metadata": {},
     "output_type": "execute_result"
    }
   ],
   "source": [
    "train_q.shape"
   ]
  },
  {
   "cell_type": "code",
   "execution_count": 67,
   "metadata": {},
   "outputs": [],
   "source": [
    "test_q = q.loc[800:1000]"
   ]
  },
  {
   "cell_type": "code",
   "execution_count": 68,
   "metadata": {},
   "outputs": [
    {
     "data": {
      "text/plain": [
       "(200, 5)"
      ]
     },
     "execution_count": 68,
     "metadata": {},
     "output_type": "execute_result"
    }
   ],
   "source": [
    "test_q.shape"
   ]
  },
  {
   "cell_type": "code",
   "execution_count": null,
   "metadata": {},
   "outputs": [],
   "source": []
  },
  {
   "cell_type": "code",
   "execution_count": 69,
   "metadata": {},
   "outputs": [
    {
     "data": {
      "text/html": [
       "<div>\n",
       "<style scoped>\n",
       "    .dataframe tbody tr th:only-of-type {\n",
       "        vertical-align: middle;\n",
       "    }\n",
       "\n",
       "    .dataframe tbody tr th {\n",
       "        vertical-align: top;\n",
       "    }\n",
       "\n",
       "    .dataframe thead th {\n",
       "        text-align: right;\n",
       "    }\n",
       "</style>\n",
       "<table border=\"1\" class=\"dataframe\">\n",
       "  <thead>\n",
       "    <tr style=\"text-align: right;\">\n",
       "      <th></th>\n",
       "      <th>ALL WORDS</th>\n",
       "      <th>POSTIVE_NUMBER</th>\n",
       "      <th>NEGATIVE_NUMBER</th>\n",
       "      <th>Laplas_Prob_of_P_W</th>\n",
       "      <th>Laplas_Prob_of_N_W</th>\n",
       "      <th>Prob_of_P_W</th>\n",
       "      <th>Prob_of_N_W</th>\n",
       "    </tr>\n",
       "  </thead>\n",
       "  <tbody>\n",
       "    <tr>\n",
       "      <th>0</th>\n",
       "      <td>coaster</td>\n",
       "      <td>0</td>\n",
       "      <td>2</td>\n",
       "      <td>0.000173</td>\n",
       "      <td>0.000386</td>\n",
       "      <td>0.000000</td>\n",
       "      <td>0.000386</td>\n",
       "    </tr>\n",
       "    <tr>\n",
       "      <th>1</th>\n",
       "      <td>drunk</td>\n",
       "      <td>3</td>\n",
       "      <td>0</td>\n",
       "      <td>0.000690</td>\n",
       "      <td>0.000000</td>\n",
       "      <td>0.001111</td>\n",
       "      <td>0.000000</td>\n",
       "    </tr>\n",
       "    <tr>\n",
       "      <th>2</th>\n",
       "      <td>bob</td>\n",
       "      <td>0</td>\n",
       "      <td>4</td>\n",
       "      <td>0.000173</td>\n",
       "      <td>0.000772</td>\n",
       "      <td>0.000000</td>\n",
       "      <td>0.000772</td>\n",
       "    </tr>\n",
       "    <tr>\n",
       "      <th>3</th>\n",
       "      <td>cargo</td>\n",
       "      <td>1</td>\n",
       "      <td>0</td>\n",
       "      <td>0.000345</td>\n",
       "      <td>0.000000</td>\n",
       "      <td>0.000370</td>\n",
       "      <td>0.000000</td>\n",
       "    </tr>\n",
       "    <tr>\n",
       "      <th>4</th>\n",
       "      <td>annihil</td>\n",
       "      <td>19</td>\n",
       "      <td>37</td>\n",
       "      <td>0.003452</td>\n",
       "      <td>0.007139</td>\n",
       "      <td>0.007037</td>\n",
       "      <td>0.007139</td>\n",
       "    </tr>\n",
       "  </tbody>\n",
       "</table>\n",
       "</div>"
      ],
      "text/plain": [
       "  ALL WORDS POSTIVE_NUMBER NEGATIVE_NUMBER  Laplas_Prob_of_P_W  \\\n",
       "0   coaster              0               2            0.000173   \n",
       "1     drunk              3               0            0.000690   \n",
       "2       bob              0               4            0.000173   \n",
       "3     cargo              1               0            0.000345   \n",
       "4   annihil             19              37            0.003452   \n",
       "\n",
       "   Laplas_Prob_of_N_W  Prob_of_P_W  Prob_of_N_W  \n",
       "0            0.000386     0.000000     0.000386  \n",
       "1            0.000000     0.001111     0.000000  \n",
       "2            0.000772     0.000000     0.000772  \n",
       "3            0.000000     0.000370     0.000000  \n",
       "4            0.007139     0.007037     0.007139  "
      ]
     },
     "execution_count": 69,
     "metadata": {},
     "output_type": "execute_result"
    }
   ],
   "source": [
    "df.head()"
   ]
  },
  {
   "cell_type": "markdown",
   "metadata": {},
   "source": [
    "# To find Lambda"
   ]
  },
  {
   "cell_type": "code",
   "execution_count": 72,
   "metadata": {},
   "outputs": [
    {
     "name": "stderr",
     "output_type": "stream",
     "text": [
      "C:\\Users\\hp\\Anaconda3\\new_conda\\lib\\site-packages\\ipykernel_launcher.py:8: RuntimeWarning: divide by zero encountered in double_scalars\n",
      "  \n"
     ]
    }
   ],
   "source": [
    "import math\n",
    "#sum_posi = 0\n",
    "lambda_laplas_ = []\n",
    "for j in range(0,(len(df.Laplas_Prob_of_N_W))):\n",
    "    temp = df.Laplas_Prob_of_N_W[j]\n",
    "    temp1 = df.Laplas_Prob_of_P_W[j]\n",
    "    #sum_posi = sum_posi + temp\n",
    "    divide_negi = math.log(temp1/temp)\n",
    "    lambda_laplas_.append(divide_negi)"
   ]
  },
  {
   "cell_type": "code",
   "execution_count": 73,
   "metadata": {},
   "outputs": [],
   "source": [
    "df[\"Lambda_of_laplas_probablity\"] = lambda_laplas_"
   ]
  },
  {
   "cell_type": "code",
   "execution_count": 74,
   "metadata": {},
   "outputs": [
    {
     "data": {
      "text/html": [
       "<div>\n",
       "<style scoped>\n",
       "    .dataframe tbody tr th:only-of-type {\n",
       "        vertical-align: middle;\n",
       "    }\n",
       "\n",
       "    .dataframe tbody tr th {\n",
       "        vertical-align: top;\n",
       "    }\n",
       "\n",
       "    .dataframe thead th {\n",
       "        text-align: right;\n",
       "    }\n",
       "</style>\n",
       "<table border=\"1\" class=\"dataframe\">\n",
       "  <thead>\n",
       "    <tr style=\"text-align: right;\">\n",
       "      <th></th>\n",
       "      <th>ALL WORDS</th>\n",
       "      <th>POSTIVE_NUMBER</th>\n",
       "      <th>NEGATIVE_NUMBER</th>\n",
       "      <th>Laplas_Prob_of_P_W</th>\n",
       "      <th>Laplas_Prob_of_N_W</th>\n",
       "      <th>Prob_of_P_W</th>\n",
       "      <th>Prob_of_N_W</th>\n",
       "      <th>Lambda_of_laplas_probablity</th>\n",
       "    </tr>\n",
       "  </thead>\n",
       "  <tbody>\n",
       "    <tr>\n",
       "      <th>0</th>\n",
       "      <td>coaster</td>\n",
       "      <td>0</td>\n",
       "      <td>2</td>\n",
       "      <td>0.000173</td>\n",
       "      <td>0.000386</td>\n",
       "      <td>0.000000</td>\n",
       "      <td>0.000386</td>\n",
       "      <td>-0.804586</td>\n",
       "    </tr>\n",
       "    <tr>\n",
       "      <th>1</th>\n",
       "      <td>drunk</td>\n",
       "      <td>3</td>\n",
       "      <td>0</td>\n",
       "      <td>0.000690</td>\n",
       "      <td>0.000000</td>\n",
       "      <td>0.001111</td>\n",
       "      <td>0.000000</td>\n",
       "      <td>inf</td>\n",
       "    </tr>\n",
       "    <tr>\n",
       "      <th>2</th>\n",
       "      <td>bob</td>\n",
       "      <td>0</td>\n",
       "      <td>4</td>\n",
       "      <td>0.000173</td>\n",
       "      <td>0.000772</td>\n",
       "      <td>0.000000</td>\n",
       "      <td>0.000772</td>\n",
       "      <td>-1.497733</td>\n",
       "    </tr>\n",
       "    <tr>\n",
       "      <th>3</th>\n",
       "      <td>cargo</td>\n",
       "      <td>1</td>\n",
       "      <td>0</td>\n",
       "      <td>0.000345</td>\n",
       "      <td>0.000000</td>\n",
       "      <td>0.000370</td>\n",
       "      <td>0.000000</td>\n",
       "      <td>inf</td>\n",
       "    </tr>\n",
       "    <tr>\n",
       "      <th>4</th>\n",
       "      <td>annihil</td>\n",
       "      <td>19</td>\n",
       "      <td>37</td>\n",
       "      <td>0.003452</td>\n",
       "      <td>0.007139</td>\n",
       "      <td>0.007037</td>\n",
       "      <td>0.007139</td>\n",
       "      <td>-0.726624</td>\n",
       "    </tr>\n",
       "  </tbody>\n",
       "</table>\n",
       "</div>"
      ],
      "text/plain": [
       "  ALL WORDS POSTIVE_NUMBER NEGATIVE_NUMBER  Laplas_Prob_of_P_W  \\\n",
       "0   coaster              0               2            0.000173   \n",
       "1     drunk              3               0            0.000690   \n",
       "2       bob              0               4            0.000173   \n",
       "3     cargo              1               0            0.000345   \n",
       "4   annihil             19              37            0.003452   \n",
       "\n",
       "   Laplas_Prob_of_N_W  Prob_of_P_W  Prob_of_N_W  Lambda_of_laplas_probablity  \n",
       "0            0.000386     0.000000     0.000386                    -0.804586  \n",
       "1            0.000000     0.001111     0.000000                          inf  \n",
       "2            0.000772     0.000000     0.000772                    -1.497733  \n",
       "3            0.000000     0.000370     0.000000                          inf  \n",
       "4            0.007139     0.007037     0.007139                    -0.726624  "
      ]
     },
     "execution_count": 74,
     "metadata": {},
     "output_type": "execute_result"
    }
   ],
   "source": [
    "df.head()"
   ]
  },
  {
   "cell_type": "markdown",
   "metadata": {},
   "source": [
    "# Using Log Likelihood technique to find Positive and Negative sentiments"
   ]
  },
  {
   "cell_type": "code",
   "execution_count": 75,
   "metadata": {},
   "outputs": [],
   "source": [
    "k = []\n",
    "cleaned_tokens = []\n",
    "list_to_load_divide_data_of_single_doc = []\n",
    "x = 1\n",
    "Lambda_Laplas = []\n",
    "\n",
    "\n",
    "for j in range (0,len(train_q.text)):\n",
    "    temp_text = train_q.text[j]\n",
    "    doc =nlp(temp_text)\n",
    "    sum_of_lambda = 0\n",
    "    for token in doc:\n",
    "        if token.lemma_ != \"-PRON-\":\n",
    "            temp = token.lemma_.lower().strip()\n",
    "            #k.append(temp)\n",
    "        else:\n",
    "            temp = token.lower_\n",
    "        if temp not in stopwords and temp not in punct:\n",
    "            series_of_all_words_column = df[\"ALL WORDS\"]\n",
    "            list_of_all_words = list(series_of_all_words_column)\n",
    "            index_of_temp = list_of_all_words.index(temp)\n",
    "            \n",
    "            #now pick the +ve and negative probablity of each token\n",
    "            lambda_of_that_word = df[\"Lambda_of_laplas_probablity\"][index_of_temp]\n",
    "            #print(token)\n",
    "            #print(lambda_of_that_word)\n",
    "            \n",
    "            #Now divide both of them for each token of a particular token\n",
    "            sum_of_lambda = sum_of_lambda + lambda_of_that_word\n",
    "            \n",
    "  \n",
    "\n",
    "    # Now define weather x is positive or negative\n",
    "    if sum_of_lambda>1:\n",
    "        k = 1\n",
    "    else:\n",
    "        k=0\n",
    "    Lambda_Laplas.append(k)"
   ]
  },
  {
   "cell_type": "markdown",
   "metadata": {},
   "source": [
    "# Load the Output sentiment comes from loglikelihood in Train dataset"
   ]
  },
  {
   "cell_type": "code",
   "execution_count": 76,
   "metadata": {},
   "outputs": [
    {
     "name": "stderr",
     "output_type": "stream",
     "text": [
      "C:\\Users\\hp\\Anaconda3\\new_conda\\lib\\site-packages\\ipykernel_launcher.py:1: SettingWithCopyWarning: \n",
      "A value is trying to be set on a copy of a slice from a DataFrame.\n",
      "Try using .loc[row_indexer,col_indexer] = value instead\n",
      "\n",
      "See the caveats in the documentation: https://pandas.pydata.org/pandas-docs/stable/user_guide/indexing.html#returning-a-view-versus-a-copy\n",
      "  \"\"\"Entry point for launching an IPython kernel.\n"
     ]
    }
   ],
   "source": [
    "train_q[\"Log_likelihood_Sentiment\"] = Lambda_Laplas"
   ]
  },
  {
   "cell_type": "markdown",
   "metadata": {},
   "source": [
    "# Here we are converting a dataframe column into list so that we can use index function in further models"
   ]
  },
  {
   "cell_type": "code",
   "execution_count": 77,
   "metadata": {},
   "outputs": [],
   "source": [
    "list_of_all_words = df[\"ALL WORDS\"]"
   ]
  },
  {
   "cell_type": "code",
   "execution_count": 78,
   "metadata": {},
   "outputs": [],
   "source": [
    "list_of_all_words = list(list_of_all_words)"
   ]
  },
  {
   "cell_type": "code",
   "execution_count": 79,
   "metadata": {},
   "outputs": [],
   "source": [
    "#data[\"Indexes\"]= data[\"Name\"].str.find(sub, start)"
   ]
  },
  {
   "cell_type": "markdown",
   "metadata": {},
   "source": [
    "# Model By using >>>Laplas_ Probablity<<< and >>>simple model<<<"
   ]
  },
  {
   "cell_type": "code",
   "execution_count": 80,
   "metadata": {},
   "outputs": [
    {
     "name": "stderr",
     "output_type": "stream",
     "text": [
      "C:\\Users\\hp\\Anaconda3\\new_conda\\lib\\site-packages\\ipykernel_launcher.py:26: RuntimeWarning: divide by zero encountered in double_scalars\n"
     ]
    }
   ],
   "source": [
    "k = []\n",
    "cleaned_tokens = []\n",
    "list_to_load_divide_data_of_single_doc = []\n",
    "x = 1\n",
    "Laplas_new_list = []\n",
    "\n",
    "for j in range (0,len(train_q.text)):\n",
    "    temp_text = train_q.text[j]\n",
    "    doc =nlp(temp_text)\n",
    "    for token in doc:\n",
    "        if token.lemma_ != \"-PRON-\":\n",
    "            temp = token.lemma_.lower().strip()\n",
    "            #k.append(temp)\n",
    "        else:\n",
    "            temp = token.lower_\n",
    "        if temp not in stopwords and temp not in punct:\n",
    "            series_of_all_words_column = df[\"ALL WORDS\"]\n",
    "            list_of_all_words = list(series_of_all_words_column)\n",
    "            index_of_temp = list_of_all_words.index(temp)\n",
    "            \n",
    "            #now pick the +ve and negative probablity of each token\n",
    "            positive_probablity = df[\"Laplas_Prob_of_P_W\"][index_of_temp]\n",
    "            Nagetive_probablity = df[\"Laplas_Prob_of_N_W\"][index_of_temp]\n",
    "            \n",
    "            #Now divide both of them for each token of a particular token\n",
    "            divede_pos_and_Neg = positive_probablity / Nagetive_probablity\n",
    "            \n",
    "            # list_to_load_divide_data_of_single_doc\n",
    "            list_to_load_divide_data_of_single_doc.append(divede_pos_and_Neg)\n",
    "            \n",
    "    for j in range (0,len(list_to_load_divide_data_of_single_doc)):\n",
    "        x = list_to_load_divide_data_of_single_doc[j]\n",
    "        x = x*x\n",
    "    \n",
    "    # Now define weather x is positive or negative\n",
    "    if x>1:\n",
    "        k = 1\n",
    "    else:\n",
    "        k=0\n",
    "    Laplas_new_list.append(k)"
   ]
  },
  {
   "cell_type": "markdown",
   "metadata": {},
   "source": [
    "# MODEL By using >>>Simple probablity<<< + >>>Simple model<<<"
   ]
  },
  {
   "cell_type": "code",
   "execution_count": 81,
   "metadata": {},
   "outputs": [
    {
     "name": "stderr",
     "output_type": "stream",
     "text": [
      "C:\\Users\\hp\\Anaconda3\\new_conda\\lib\\site-packages\\ipykernel_launcher.py:26: RuntimeWarning: divide by zero encountered in double_scalars\n"
     ]
    }
   ],
   "source": [
    "k = []\n",
    "cleaned_tokens = []\n",
    "list_to_load_divide_data_of_single_doc = []\n",
    "x = 1\n",
    "new_list = []\n",
    "\n",
    "for j in range (0,len(train_q.text)):\n",
    "    temp_text = train_q.text[j]\n",
    "    doc =nlp(temp_text)\n",
    "    for token in doc:\n",
    "        if token.lemma_ != \"-PRON-\":\n",
    "            temp = token.lemma_.lower().strip()\n",
    "            #k.append(temp)\n",
    "        else:\n",
    "            temp = token.lower_\n",
    "        if temp not in stopwords and temp not in punct:\n",
    "            series_of_all_words_column = df[\"ALL WORDS\"]\n",
    "            list_of_all_words = list(series_of_all_words_column)\n",
    "            index_of_temp = list_of_all_words.index(temp)\n",
    "            \n",
    "            #now pick the +ve and negative probablity of each token\n",
    "            positive_probablity = df[\"Prob_of_P_W\"][index_of_temp]\n",
    "            Nagetive_probablity = df[\"Prob_of_N_W\"][index_of_temp]\n",
    "            \n",
    "            #Now divide both of them for each token of a particular token\n",
    "            divede_pos_and_Neg = positive_probablity / Nagetive_probablity\n",
    "            \n",
    "            # list_to_load_divide_data_of_single_doc\n",
    "            list_to_load_divide_data_of_single_doc.append(divede_pos_and_Neg)\n",
    "            \n",
    "    for j in range (0,len(list_to_load_divide_data_of_single_doc)):\n",
    "        x = list_to_load_divide_data_of_single_doc[j]\n",
    "        x = x*x\n",
    "    \n",
    "    # Now define weather x is positive or negative\n",
    "    if x>1:\n",
    "        k = 1\n",
    "    else:\n",
    "        k=0\n",
    "    new_list.append(k)"
   ]
  },
  {
   "cell_type": "markdown",
   "metadata": {},
   "source": [
    "# Load the Output sentiment comes from above two model in Train dataset"
   ]
  },
  {
   "cell_type": "code",
   "execution_count": 82,
   "metadata": {},
   "outputs": [
    {
     "name": "stderr",
     "output_type": "stream",
     "text": [
      "C:\\Users\\hp\\Anaconda3\\new_conda\\lib\\site-packages\\ipykernel_launcher.py:1: SettingWithCopyWarning: \n",
      "A value is trying to be set on a copy of a slice from a DataFrame.\n",
      "Try using .loc[row_indexer,col_indexer] = value instead\n",
      "\n",
      "See the caveats in the documentation: https://pandas.pydata.org/pandas-docs/stable/user_guide/indexing.html#returning-a-view-versus-a-copy\n",
      "  \"\"\"Entry point for launching an IPython kernel.\n",
      "C:\\Users\\hp\\Anaconda3\\new_conda\\lib\\site-packages\\ipykernel_launcher.py:2: SettingWithCopyWarning: \n",
      "A value is trying to be set on a copy of a slice from a DataFrame.\n",
      "Try using .loc[row_indexer,col_indexer] = value instead\n",
      "\n",
      "See the caveats in the documentation: https://pandas.pydata.org/pandas-docs/stable/user_guide/indexing.html#returning-a-view-versus-a-copy\n",
      "  \n"
     ]
    }
   ],
   "source": [
    "train_q[\"Sentiment\"] = new_list\n",
    "train_q[\"Laplas_Sentiment\"] = new_list"
   ]
  },
  {
   "cell_type": "markdown",
   "metadata": {},
   "source": [
    "# Here is a dataframe that will show the Actual sentiments and Predicted sentiments by three different models"
   ]
  },
  {
   "cell_type": "code",
   "execution_count": 84,
   "metadata": {},
   "outputs": [
    {
     "data": {
      "text/html": [
       "<div>\n",
       "<style scoped>\n",
       "    .dataframe tbody tr th:only-of-type {\n",
       "        vertical-align: middle;\n",
       "    }\n",
       "\n",
       "    .dataframe tbody tr th {\n",
       "        vertical-align: top;\n",
       "    }\n",
       "\n",
       "    .dataframe thead th {\n",
       "        text-align: right;\n",
       "    }\n",
       "</style>\n",
       "<table border=\"1\" class=\"dataframe\">\n",
       "  <thead>\n",
       "    <tr style=\"text-align: right;\">\n",
       "      <th></th>\n",
       "      <th>id</th>\n",
       "      <th>keyword</th>\n",
       "      <th>location</th>\n",
       "      <th>text</th>\n",
       "      <th>target</th>\n",
       "      <th>Log_likelihood_Sentiment</th>\n",
       "      <th>Sentiment</th>\n",
       "      <th>Laplas_Sentiment</th>\n",
       "    </tr>\n",
       "  </thead>\n",
       "  <tbody>\n",
       "    <tr>\n",
       "      <th>0</th>\n",
       "      <td>1</td>\n",
       "      <td>NaN</td>\n",
       "      <td>NaN</td>\n",
       "      <td>our deed are reason earthquak may allah forgiv us</td>\n",
       "      <td>1</td>\n",
       "      <td>1</td>\n",
       "      <td>1</td>\n",
       "      <td>1</td>\n",
       "    </tr>\n",
       "    <tr>\n",
       "      <th>1</th>\n",
       "      <td>4</td>\n",
       "      <td>NaN</td>\n",
       "      <td>NaN</td>\n",
       "      <td>forest fire near la rong sask canada</td>\n",
       "      <td>1</td>\n",
       "      <td>1</td>\n",
       "      <td>1</td>\n",
       "      <td>1</td>\n",
       "    </tr>\n",
       "    <tr>\n",
       "      <th>2</th>\n",
       "      <td>5</td>\n",
       "      <td>NaN</td>\n",
       "      <td>NaN</td>\n",
       "      <td>resid ask shelter in place are be notifi by offic no evacu shelter in place order are expect</td>\n",
       "      <td>1</td>\n",
       "      <td>1</td>\n",
       "      <td>0</td>\n",
       "      <td>0</td>\n",
       "    </tr>\n",
       "    <tr>\n",
       "      <th>3</th>\n",
       "      <td>6</td>\n",
       "      <td>NaN</td>\n",
       "      <td>NaN</td>\n",
       "      <td>peopl receiv wildfir evacu order in california</td>\n",
       "      <td>1</td>\n",
       "      <td>1</td>\n",
       "      <td>1</td>\n",
       "      <td>1</td>\n",
       "    </tr>\n",
       "    <tr>\n",
       "      <th>4</th>\n",
       "      <td>7</td>\n",
       "      <td>NaN</td>\n",
       "      <td>NaN</td>\n",
       "      <td>just got sent photo from rubi alaska smoke from wildfir pour into school</td>\n",
       "      <td>1</td>\n",
       "      <td>1</td>\n",
       "      <td>1</td>\n",
       "      <td>1</td>\n",
       "    </tr>\n",
       "  </tbody>\n",
       "</table>\n",
       "</div>"
      ],
      "text/plain": [
       "   id keyword location  \\\n",
       "0   1     NaN      NaN   \n",
       "1   4     NaN      NaN   \n",
       "2   5     NaN      NaN   \n",
       "3   6     NaN      NaN   \n",
       "4   7     NaN      NaN   \n",
       "\n",
       "                                                                                           text  \\\n",
       "0                                             our deed are reason earthquak may allah forgiv us   \n",
       "1                                                          forest fire near la rong sask canada   \n",
       "2  resid ask shelter in place are be notifi by offic no evacu shelter in place order are expect   \n",
       "3                                                peopl receiv wildfir evacu order in california   \n",
       "4                      just got sent photo from rubi alaska smoke from wildfir pour into school   \n",
       "\n",
       "   target  Log_likelihood_Sentiment  Sentiment  Laplas_Sentiment  \n",
       "0       1                         1          1                 1  \n",
       "1       1                         1          1                 1  \n",
       "2       1                         1          0                 0  \n",
       "3       1                         1          1                 1  \n",
       "4       1                         1          1                 1  "
      ]
     },
     "execution_count": 84,
     "metadata": {},
     "output_type": "execute_result"
    }
   ],
   "source": [
    "train_q.head()"
   ]
  },
  {
   "cell_type": "code",
   "execution_count": null,
   "metadata": {},
   "outputs": [],
   "source": []
  },
  {
   "cell_type": "markdown",
   "metadata": {},
   "source": [
    "# Confusion matrix"
   ]
  },
  {
   "cell_type": "markdown",
   "metadata": {},
   "source": [
    "### 1). For normal model"
   ]
  },
  {
   "cell_type": "code",
   "execution_count": 85,
   "metadata": {},
   "outputs": [
    {
     "name": "stdout",
     "output_type": "stream",
     "text": [
      "Predicted    0    1  All\n",
      "Actual                  \n",
      "0          431   85  516\n",
      "1           37  247  284\n",
      "All        468  332  800\n"
     ]
    }
   ],
   "source": [
    "data = {'y_Actual':   train_q.target,\n",
    "        'y_Predicted': train_q.Sentiment}\n",
    "\n",
    "df_plot = pd.DataFrame(data, columns=['y_Actual','y_Predicted'])\n",
    "\n",
    "confusion_matrix = pd.crosstab(df_plot['y_Actual'], df_plot['y_Predicted'], rownames=['Actual'], colnames=['Predicted'], margins = True)\n",
    "print (confusion_matrix)"
   ]
  },
  {
   "cell_type": "code",
   "execution_count": 86,
   "metadata": {},
   "outputs": [
    {
     "data": {
      "text/plain": [
       "0.8475"
      ]
     },
     "execution_count": 86,
     "metadata": {},
     "output_type": "execute_result"
    }
   ],
   "source": [
    "accuracy_score(train_q.target,train_q.Sentiment)"
   ]
  },
  {
   "cell_type": "markdown",
   "metadata": {},
   "source": [
    "### 2). For Laplas"
   ]
  },
  {
   "cell_type": "code",
   "execution_count": 87,
   "metadata": {},
   "outputs": [
    {
     "name": "stdout",
     "output_type": "stream",
     "text": [
      "Predicted    0    1  All\n",
      "Actual                  \n",
      "0          431   85  516\n",
      "1           37  247  284\n",
      "All        468  332  800\n"
     ]
    }
   ],
   "source": [
    "data = {'y_Actual':   train_q.target,\n",
    "        'y_Predicted': train_q.Laplas_Sentiment}\n",
    "\n",
    "df_plot = pd.DataFrame(data, columns=['y_Actual','y_Predicted'])\n",
    "\n",
    "confusion_matrix = pd.crosstab(df_plot['y_Actual'], df_plot['y_Predicted'], rownames=['Actual'], colnames=['Predicted'], margins = True)\n",
    "print (confusion_matrix)"
   ]
  },
  {
   "cell_type": "code",
   "execution_count": 88,
   "metadata": {},
   "outputs": [
    {
     "data": {
      "text/plain": [
       "0.8475"
      ]
     },
     "execution_count": 88,
     "metadata": {},
     "output_type": "execute_result"
    }
   ],
   "source": [
    "accuracy_score(train_q.target,train_q.Laplas_Sentiment)"
   ]
  },
  {
   "cell_type": "markdown",
   "metadata": {},
   "source": [
    "### 3). For LOG LIKELIHOOD model"
   ]
  },
  {
   "cell_type": "code",
   "execution_count": 89,
   "metadata": {},
   "outputs": [
    {
     "name": "stdout",
     "output_type": "stream",
     "text": [
      "Predicted    0    1  All\n",
      "Actual                  \n",
      "0          493   23  516\n",
      "1           18  266  284\n",
      "All        511  289  800\n"
     ]
    }
   ],
   "source": [
    "data = {'y_Actual':   train_q.target,\n",
    "        'y_Predicted': train_q.Log_likelihood_Sentiment}\n",
    "\n",
    "df_plot = pd.DataFrame(data, columns=['y_Actual','y_Predicted'])\n",
    "\n",
    "confusion_matrix = pd.crosstab(df_plot['y_Actual'], df_plot['y_Predicted'], rownames=['Actual'], colnames=['Predicted'], margins = True)\n",
    "print (confusion_matrix)"
   ]
  },
  {
   "cell_type": "code",
   "execution_count": 90,
   "metadata": {},
   "outputs": [
    {
     "data": {
      "text/plain": [
       "0.94875"
      ]
     },
     "execution_count": 90,
     "metadata": {},
     "output_type": "execute_result"
    }
   ],
   "source": [
    "accuracy_score(train_q.target,train_q.Log_likelihood_Sentiment)"
   ]
  },
  {
   "cell_type": "code",
   "execution_count": null,
   "metadata": {},
   "outputs": [],
   "source": []
  },
  {
   "cell_type": "code",
   "execution_count": null,
   "metadata": {},
   "outputs": [],
   "source": []
  },
  {
   "cell_type": "markdown",
   "metadata": {},
   "source": [
    "# F1 Score\n",
    "\n",
    "## 1). Simple Model"
   ]
  },
  {
   "cell_type": "code",
   "execution_count": 91,
   "metadata": {},
   "outputs": [
    {
     "name": "stdout",
     "output_type": "stream",
     "text": [
      "              precision    recall  f1-score   support\n",
      "\n",
      "           0       0.92      0.84      0.88       516\n",
      "           1       0.74      0.87      0.80       284\n",
      "\n",
      "   micro avg       0.85      0.85      0.85       800\n",
      "   macro avg       0.83      0.85      0.84       800\n",
      "weighted avg       0.86      0.85      0.85       800\n",
      "\n"
     ]
    }
   ],
   "source": [
    "print(classification_report(train_q.target,train_q.Sentiment))"
   ]
  },
  {
   "cell_type": "markdown",
   "metadata": {},
   "source": [
    "## 2). Loglikelihood Model"
   ]
  },
  {
   "cell_type": "code",
   "execution_count": 92,
   "metadata": {},
   "outputs": [
    {
     "name": "stdout",
     "output_type": "stream",
     "text": [
      "              precision    recall  f1-score   support\n",
      "\n",
      "           0       0.96      0.96      0.96       516\n",
      "           1       0.92      0.94      0.93       284\n",
      "\n",
      "   micro avg       0.95      0.95      0.95       800\n",
      "   macro avg       0.94      0.95      0.94       800\n",
      "weighted avg       0.95      0.95      0.95       800\n",
      "\n"
     ]
    }
   ],
   "source": [
    "print(classification_report(train_q.target,train_q.Log_likelihood_Sentiment))"
   ]
  },
  {
   "cell_type": "markdown",
   "metadata": {},
   "source": [
    "# Manual Calculation of F Score for Loglikelihood  Model"
   ]
  },
  {
   "cell_type": "code",
   "execution_count": 93,
   "metadata": {},
   "outputs": [
    {
     "data": {
      "text/plain": [
       "0.94875"
      ]
     },
     "execution_count": 93,
     "metadata": {},
     "output_type": "execute_result"
    }
   ],
   "source": [
    "y_true = data[\"y_Actual\"]\n",
    "y_pred = data[\"y_Predicted\"]\n",
    "\n",
    "\n",
    "# Accuracy\n",
    "from sklearn.metrics import accuracy_score\n",
    "accuracy_score(y_true, y_pred)\n"
   ]
  },
  {
   "cell_type": "code",
   "execution_count": 94,
   "metadata": {},
   "outputs": [],
   "source": [
    "# Recall\n",
    "from sklearn.metrics import recall_score\n",
    "recall = recall_score(y_true, y_pred, average=None)\n"
   ]
  },
  {
   "cell_type": "code",
   "execution_count": 95,
   "metadata": {},
   "outputs": [],
   "source": [
    "# Precision\n",
    "from sklearn.metrics import precision_score\n",
    "precision = precision_score(y_true, y_pred, average=None)"
   ]
  },
  {
   "cell_type": "code",
   "execution_count": 96,
   "metadata": {},
   "outputs": [],
   "source": [
    "F1 = 2 * (precision * recall) / (precision + recall)"
   ]
  },
  {
   "cell_type": "code",
   "execution_count": 98,
   "metadata": {},
   "outputs": [
    {
     "name": "stdout",
     "output_type": "stream",
     "text": [
      "[0.9600779  0.92844677]\n"
     ]
    }
   ],
   "source": [
    "print(F1)"
   ]
  },
  {
   "cell_type": "code",
   "execution_count": null,
   "metadata": {},
   "outputs": [],
   "source": []
  },
  {
   "cell_type": "markdown",
   "metadata": {},
   "source": [
    "# Compute ROC curve and AUC area "
   ]
  },
  {
   "cell_type": "markdown",
   "metadata": {},
   "source": [
    "## Comaprision of AUC area of two different model"
   ]
  },
  {
   "cell_type": "code",
   "execution_count": 99,
   "metadata": {},
   "outputs": [
    {
     "data": {
      "image/png": "[encoded data removed]",
      "text/plain": [
       "<Figure size 500x500 with 1 Axes>"
      ]
     },
     "metadata": {
      "needs_background": "light"
     },
     "output_type": "display_data"
    }
   ],
   "source": [
    "LOG_actual = list(train_q['target'])\n",
    "LOG_pred = list(train_q['Log_likelihood_Sentiment'])\n",
    "\n",
    "actual = list(train_q['target'])\n",
    "pred = list(train_q['Sentiment'])\n",
    "\n",
    "\n",
    "from sklearn.metrics import roc_curve, auc\n",
    "\n",
    "fpr, tpr, threshold = roc_curve(actual, pred)\n",
    "log_fpr, log_tpr, log_threshold = roc_curve(LOG_actual, LOG_pred)\n",
    "\n",
    "\n",
    "simple_auc = auc(fpr, tpr)\n",
    "log_auc = auc(log_fpr, log_tpr)\n",
    "\n",
    "#svm_fpr, svm_tpr, threshold = roc_curve(y_test, y_pred_svm)\n",
    "#auc_svm = auc(svm_fpr, svm_tpr)\n",
    "\n",
    "plt.figure(figsize=(5, 5), dpi=100)\n",
    "#plt.plot(svm_fpr, svm_tpr, linestyle='-', label='SVM (auc = %0.3f)' % auc_svm)\n",
    "\n",
    "plt.plot(fpr, tpr, marker='.', label='Simple_auc = %0.3f' % simple_auc)\n",
    "plt.plot(log_fpr, log_tpr, marker='.', label='Log_auc = %0.3f' % log_auc)\n",
    "\n",
    "\n",
    "plt.xlabel('False Positive Rate -->')\n",
    "plt.ylabel('True Positive Rate -->')\n",
    "\n",
    "plt.legend()\n",
    "\n",
    "plt.show()"
   ]
  }
 ],
 "metadata": {
  "kernelspec": {
   "display_name": "Python 3",
   "language": "python",
   "name": "python3"
  },
  "language_info": {
   "codemirror_mode": {
    "name": "ipython",
    "version": 3
   },
   "file_extension": ".py",
   "mimetype": "text/x-python",
   "name": "python",
   "nbconvert_exporter": "python",
   "pygments_lexer": "ipython3",
   "version": "3.6.5"
  }
 },
 "nbformat": 4,
 "nbformat_minor": 4
}
